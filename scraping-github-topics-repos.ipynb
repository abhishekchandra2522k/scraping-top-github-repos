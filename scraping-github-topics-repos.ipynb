{
 "cells": [
  {
   "cell_type": "markdown",
   "metadata": {},
   "source": [
    "# Scraping the top repos for Topics on GitHub\n",
    "\n",
    "TODO:\n",
    "- Introduction to web scraping.\n",
    "- Introduction to Github (contains millions of open source repositories) and the problem statement.\n",
    "- Tools we are using \n",
    " - Python\n",
    " - requests\n",
    " - BeautifulSoup4\n",
    " - Pandas\n"
   ]
  },
  {
   "cell_type": "markdown",
   "metadata": {},
   "source": [
    "Outline:\n",
    "Here're the steps we will follow:\n",
    "- We're going to scrape : https://github.com/topics\n",
    "- We'll get a list of topics. For each topic, we will get topic title, topic page URL and topic description.\n",
    "- For each topic, we'll get top 25 repositories in the topic from topic page.\n",
    "- For each repository, we'll grab the repo name, username, stars and repo URL\n",
    "- For each topic, we'll create a csv file in the following format:\n",
    "\n",
    "```\n",
    "Repo Name,Username,Stars ,Repo URL\n",
    "three.js,mrdoob,69700,https://github.com/mrdoob/three.js\n",
    "libgdx,libgdx,18300,https://github.com/libgdx/libgdx\n",
    "```"
   ]
  },
  {
   "cell_type": "code",
   "execution_count": null,
   "metadata": {},
   "outputs": [],
   "source": []
  }
 ],
 "metadata": {
  "kernelspec": {
   "display_name": "Python 3",
   "language": "python",
   "name": "python3"
  },
  "language_info": {
   "codemirror_mode": {
    "name": "ipython",
    "version": 3
   },
   "file_extension": ".py",
   "mimetype": "text/x-python",
   "name": "python",
   "nbconvert_exporter": "python",
   "pygments_lexer": "ipython3",
   "version": "3.8.5"
  }
 },
 "nbformat": 4,
 "nbformat_minor": 4
}
